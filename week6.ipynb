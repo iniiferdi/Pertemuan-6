{
 "cells": [
  {
   "cell_type": "code",
   "execution_count": 14,
   "metadata": {},
   "outputs": [
    {
     "name": "stdout",
     "output_type": "stream",
     "text": [
      "*\n"
     ]
    }
   ],
   "source": [
    "num_rows = int(input('Number of Rows: '))\n",
    "\n",
    "for i in range(1, num_rows + 1):\n",
    "    row = ''\n",
    "    \n",
    "    for spasi in range(1, num_rows - i + 1):\n",
    "        row += \" \" \n",
    "    \n",
    "    for j in range(1, 2 * i):\n",
    "        if j % 2 == 1:\n",
    "            row += \"*\"  \n",
    "        else:\n",
    "            row += \"_\"  \n",
    "    \n",
    "    print(row)  \n"
   ]
  },
  {
   "cell_type": "code",
   "execution_count": 33,
   "metadata": {},
   "outputs": [
    {
     "name": "stdout",
     "output_type": "stream",
     "text": [
      "  1 \n",
      " 1 1 \n"
     ]
    }
   ],
   "source": [
    "def pascal_triangle(num_rows):\n",
    "    triangle = []\n",
    "\n",
    "    for i in range(num_rows):\n",
    "        row = [1] * (i + 1)\n",
    "\n",
    "        for j in range(1, i):\n",
    "            row[j] = triangle[i - 1][j - 1] + triangle[i - 1][j]\n",
    "\n",
    "        triangle.append(row)\n",
    "    \n",
    "    return triangle\n",
    "\n",
    "def print_pascal(triangle):\n",
    "    \n",
    "    num_rows = len(triangle)\n",
    "    for i in range(num_rows):\n",
    "      \n",
    "        print(\" \" * (num_rows - i), end=\"\")\n",
    "   \n",
    "        for num in triangle[i]:\n",
    "            print(num, end=\" \")\n",
    "        print()  \n",
    "\n",
    "\n",
    "num_rows = int(input(\"Masukkan jumlah baris: \"))\n",
    "triangle = pascal_triangle(num_rows)\n",
    "print_pascal(triangle)\n"
   ]
  },
  {
   "cell_type": "code",
   "execution_count": 37,
   "metadata": {},
   "outputs": [],
   "source": [
    "def pascal_row(n):\n",
    "    row = [1]  \n",
    "    for i in range(n):\n",
    "        row.append(row[i] * (n - i) // (i + 1))  \n",
    "    return row\n",
    "\n",
    "num = int(input(\"Masukkan angka untuk baris segitiga Pascal: \"))\n",
    "\n",
    "baris_pascal = pascal_row(num - 1)\n",
    "print(\"Baris segitiga Pascal:\", baris_pascal)\n",
    "\n",
    "\n",
    "jumlah = sum(baris_pascal)\n",
    "print(\"Jumlah angka dalam baris tersebut adalah:\", jumlah)\n"
   ]
  }
 ],
 "metadata": {
  "kernelspec": {
   "display_name": "Python 3",
   "language": "python",
   "name": "python3"
  },
  "language_info": {
   "codemirror_mode": {
    "name": "ipython",
    "version": 3
   },
   "file_extension": ".py",
   "mimetype": "text/x-python",
   "name": "python",
   "nbconvert_exporter": "python",
   "pygments_lexer": "ipython3",
   "version": "3.12.5"
  }
 },
 "nbformat": 4,
 "nbformat_minor": 2
}
