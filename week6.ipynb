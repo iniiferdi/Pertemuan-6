{
 "cells": [
  {
   "cell_type": "code",
   "execution_count": 6,
   "metadata": {},
   "outputs": [
    {
     "name": "stdout",
     "output_type": "stream",
     "text": [
      "Saya suka buah Orange\n",
      "Saya suka buah Aple\n",
      "Saya suka buah Banana\n"
     ]
    }
   ],
   "source": [
    "fruits = ['Orange', 'Aple', 'Banana']\n",
    "\n",
    "for fruit in fruits:\n",
    "    print(f\"Saya suka buah {fruit}\")"
   ]
  },
  {
   "cell_type": "code",
   "execution_count": 7,
   "metadata": {},
   "outputs": [
    {
     "name": "stdout",
     "output_type": "stream",
     "text": [
      "Count 0\n",
      "Count 1\n",
      "Count 2\n",
      "Count 3\n",
      "Count 4\n"
     ]
    }
   ],
   "source": [
    "count = 0\n",
    "\n",
    "while count < 5:\n",
    "    print(f\"Count {count}\")\n",
    "    \n",
    "    count += 1"
   ]
  },
  {
   "cell_type": "code",
   "execution_count": 52,
   "metadata": {},
   "outputs": [
    {
     "name": "stdout",
     "output_type": "stream",
     "text": [
      " * \n",
      "* * \n"
     ]
    }
   ],
   "source": [
    "num_rows = int(input('Number of Rows: '))\n",
    "\n",
    "for i in range(1, num_rows + 1):\n",
    "    for spasi in range(num_rows - i):\n",
    "        print(' ', end=\"\")\n",
    "    for j in range(0, i):\n",
    "        print('*', end=' ')\n",
    "           \n",
    "    print()  "
   ]
  },
  {
   "cell_type": "code",
   "execution_count": 76,
   "metadata": {},
   "outputs": [
    {
     "name": "stdout",
     "output_type": "stream",
     "text": [
      "     \n",
      "    1 \n",
      "   1 1 \n",
      "  1 2 1 \n",
      " 1 3 3 1 \n",
      "1 4 6 4 1 \n"
     ]
    }
   ],
   "source": [
    "def pascal_triangle(n):\n",
    "    for i in range(n + 1):\n",
    "        for j in range (n - i):\n",
    "            print(' ', end=\"\")\n",
    "        \n",
    "        C = 1\n",
    "        \n",
    "        for k in range (1, i + 1):\n",
    "            print(C, end=\" \")\n",
    "            \n",
    "            C = C * (i - k) // k\n",
    "            \n",
    "        print()\n",
    "\n",
    "pascal_triangle(int(input(\"Masukan jumlah baris: \")))"
   ]
  },
  {
   "cell_type": "code",
   "execution_count": 53,
   "metadata": {},
   "outputs": [
    {
     "name": "stdout",
     "output_type": "stream",
     "text": [
      "   1 \n",
      "  1 1 \n",
      " 1 2 1 \n"
     ]
    }
   ],
   "source": [
    "def pascal_triangle(num_rows):\n",
    "    triangle = []\n",
    "\n",
    "    for i in range(num_rows):\n",
    "        row = [1] * (i + 1)\n",
    "\n",
    "        for j in range(1, i):\n",
    "            row[j] = triangle[i - 1][j - 1] + triangle[i - 1][j]\n",
    "\n",
    "        triangle.append(row)\n",
    "    \n",
    "    return triangle\n",
    "\n",
    "def print_pascal(triangle):\n",
    "    \n",
    "    num_rows = len(triangle)\n",
    "    for i in range(num_rows):\n",
    "      \n",
    "        print(\" \" * (num_rows - i), end=\"\")\n",
    "   \n",
    "        for num in triangle[i]:\n",
    "            print(num, end=\" \")\n",
    "        print()  \n",
    "\n",
    "\n",
    "num_rows = int(input(\"Masukkan jumlah baris: \"))\n",
    "triangle = pascal_triangle(num_rows)\n",
    "print_pascal(triangle)\n"
   ]
  },
  {
   "cell_type": "code",
   "execution_count": 3,
   "metadata": {},
   "outputs": [
    {
     "name": "stdout",
     "output_type": "stream",
     "text": [
      "Baris segitiga Pascal: [1, 3, 3, 1]\n",
      "Jumlah angka dalam baris tersebut adalah: 8\n"
     ]
    }
   ],
   "source": [
    "def pascal_row(n):\n",
    "    row = [1]  \n",
    "    for i in range(n):\n",
    "        row.append(row[i] * (n - i) // (i + 1))  \n",
    "    return row\n",
    "\n",
    "num = int(input(\"Masukkan angka untuk baris segitiga Pascal: \"))\n",
    "\n",
    "baris_pascal = pascal_row(num - 1)\n",
    "print(\"Baris segitiga Pascal:\", baris_pascal)\n",
    "\n",
    "\n",
    "jumlah = sum(baris_pascal)\n",
    "print(\"Jumlah angka dalam baris tersebut adalah:\", jumlah)\n"
   ]
  }
 ],
 "metadata": {
  "kernelspec": {
   "display_name": "Python 3",
   "language": "python",
   "name": "python3"
  },
  "language_info": {
   "codemirror_mode": {
    "name": "ipython",
    "version": 3
   },
   "file_extension": ".py",
   "mimetype": "text/x-python",
   "name": "python",
   "nbconvert_exporter": "python",
   "pygments_lexer": "ipython3",
   "version": "3.12.5"
  }
 },
 "nbformat": 4,
 "nbformat_minor": 2
}
